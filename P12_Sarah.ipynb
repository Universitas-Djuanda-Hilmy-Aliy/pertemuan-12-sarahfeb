{
  "nbformat": 4,
  "nbformat_minor": 0,
  "metadata": {
    "colab": {
      "provenance": []
    },
    "kernelspec": {
      "name": "python3",
      "display_name": "Python 3"
    },
    "language_info": {
      "name": "python"
    }
  },
  "cells": [
    {
      "cell_type": "markdown",
      "source": [
        "## Pre-Trained Model"
      ],
      "metadata": {
        "id": "E4_8ISertp_X"
      }
    },
    {
      "cell_type": "markdown",
      "source": [
        "Menggunakan Model yang sudah dilatih"
      ],
      "metadata": {
        "id": "j2iXknJrtwBR"
      }
    },
    {
      "cell_type": "code",
      "execution_count": 2,
      "metadata": {
        "colab": {
          "base_uri": "https://localhost:8080/"
        },
        "id": "WmWIhCX6OFJC",
        "outputId": "bf6427c4-216b-4864-cf7a-9f181d57dd4b"
      },
      "outputs": [
        {
          "output_type": "stream",
          "name": "stdout",
          "text": [
            "Downloading data from https://storage.googleapis.com/tensorflow/tf-keras-datasets/train-labels-idx1-ubyte.gz\n",
            "29515/29515 [==============================] - 0s 0us/step\n",
            "Downloading data from https://storage.googleapis.com/tensorflow/tf-keras-datasets/train-images-idx3-ubyte.gz\n",
            "26421880/26421880 [==============================] - 0s 0us/step\n",
            "Downloading data from https://storage.googleapis.com/tensorflow/tf-keras-datasets/t10k-labels-idx1-ubyte.gz\n",
            "5148/5148 [==============================] - 0s 0us/step\n",
            "Downloading data from https://storage.googleapis.com/tensorflow/tf-keras-datasets/t10k-images-idx3-ubyte.gz\n",
            "4422102/4422102 [==============================] - 0s 0us/step\n"
          ]
        }
      ],
      "source": [
        "import matplotlib.pyplot as plt\n",
        "from tensorflow.keras.datasets import fashion_mnist\n",
        "(train_images,train_labels),(test_images,test_labels) = fashion_mnist.load_data()"
      ]
    },
    {
      "cell_type": "code",
      "source": [
        "train_images = train_images.reshape((60000,28*28))\n",
        "train_images = train_images.astype(\"float32\")/255\n",
        "\n",
        "test_images = test_images.reshape((10000,28*28))\n",
        "test_images = test_images.astype(\"float32\")/255"
      ],
      "metadata": {
        "id": "5ab8e5GwSuZd"
      },
      "execution_count": 3,
      "outputs": []
    },
    {
      "cell_type": "code",
      "source": [
        "from tensorflow.keras.models import load_model"
      ],
      "metadata": {
        "id": "KTTM26zbpDBK"
      },
      "execution_count": 4,
      "outputs": []
    },
    {
      "cell_type": "code",
      "source": [
        "pretrain_model = load_model('model_siti_sarah_febrihartina.h5')"
      ],
      "metadata": {
        "id": "iQoCQbEhpJ2h"
      },
      "execution_count": 5,
      "outputs": []
    },
    {
      "cell_type": "code",
      "source": [
        "import numpy as np"
      ],
      "metadata": {
        "id": "-l0m2ed9tcYD"
      },
      "execution_count": 6,
      "outputs": []
    },
    {
      "cell_type": "code",
      "source": [
        "prediksi = pretrain_model(test_images)\n",
        "prediksi = prediksi.numpy() #supaya hasilnya array\n",
        "prediksi_label = np.argmax(prediksi,axis=1)\n",
        "prediksi_betul = prediksi_label == test_labels\n",
        "print(f\"akurasi hasil data test :.{prediksi_betul.mean():.2f}\")"
      ],
      "metadata": {
        "colab": {
          "base_uri": "https://localhost:8080/"
        },
        "id": "PPEpTQ0iStrq",
        "outputId": "348e1bf8-3426-4703-d49e-7c6ce56885a0"
      },
      "execution_count": 7,
      "outputs": [
        {
          "output_type": "stream",
          "name": "stdout",
          "text": [
            "akurasi hasil data test :.0.88\n"
          ]
        }
      ]
    },
    {
      "cell_type": "markdown",
      "source": [
        "## Underfitting"
      ],
      "metadata": {
        "id": "rpDrinY-t2Wi"
      }
    },
    {
      "cell_type": "markdown",
      "source": [
        "**Definisi :** Situasi dimana model tidak dapat menangkap pola yang cukup dalam proses training <br>\n",
        "\n",
        "**Penyebabnya:**\n",
        "\n",
        "\n",
        "1.   Modelnya terlalu sederhana\n",
        "2.   Data training terbatas\n",
        "3.   Proses training tidak cukup\n",
        "4.   Parameter training tidak sesuai\n",
        "\n"
      ],
      "metadata": {
        "id": "eofeHVD0t90Y"
      }
    },
    {
      "cell_type": "markdown",
      "source": [
        "Cara Mengatasinya:\n",
        "\n",
        "\n",
        "1.   Meningkatkan kompleksitas model\n",
        "2.   Datanya lebih banyak dan representatif\n",
        "3.   Menyesuaikan parameter\n",
        "\n"
      ],
      "metadata": {
        "id": "t6oDVuu8usBm"
      }
    },
    {
      "cell_type": "code",
      "source": [
        "# Arsitektur Modelnya\n",
        "\n",
        "import tensorflow as tf\n",
        "import numpy as np\n",
        "\n",
        "pretrain_model = tf.keras.Sequential([\n",
        "    tf.keras.layers.Dense(10, activation = 'relu'),\n",
        "])"
      ],
      "metadata": {
        "id": "DisfNbcEu-nK"
      },
      "execution_count": 8,
      "outputs": []
    },
    {
      "cell_type": "code",
      "source": [
        "pretrain_model.compile(optimizer ='rmsprop', loss='sparse_categorical_crossentropy', metrics=['accuracy'])"
      ],
      "metadata": {
        "id": "gFdn8Gn9vW12"
      },
      "execution_count": 9,
      "outputs": []
    },
    {
      "cell_type": "code",
      "source": [
        "pretrain_model.fit(train_images,train_labels, epochs=3, batch_size=126)"
      ],
      "metadata": {
        "colab": {
          "base_uri": "https://localhost:8080/"
        },
        "id": "xshFt0ExvfPd",
        "outputId": "041e8406-d7fa-404c-c548-881f0482542b"
      },
      "execution_count": 11,
      "outputs": [
        {
          "output_type": "stream",
          "name": "stdout",
          "text": [
            "Epoch 1/3\n",
            "477/477 [==============================] - 3s 4ms/step - loss: 2.3693 - accuracy: 0.1052\n",
            "Epoch 2/3\n",
            "477/477 [==============================] - 2s 4ms/step - loss: 2.3007 - accuracy: 0.1010\n",
            "Epoch 3/3\n",
            "477/477 [==============================] - 3s 7ms/step - loss: 2.2909 - accuracy: 0.1053\n"
          ]
        },
        {
          "output_type": "execute_result",
          "data": {
            "text/plain": [
              "<keras.src.callbacks.History at 0x7d88fab9a260>"
            ]
          },
          "metadata": {},
          "execution_count": 11
        }
      ]
    },
    {
      "cell_type": "markdown",
      "source": [
        "## Learning Rate"
      ],
      "metadata": {
        "id": "6d7XBHmGwKD4"
      }
    },
    {
      "cell_type": "markdown",
      "source": [
        "Merupakan parameter penting dalam proses training. Learning Rate merupakan nilai yang menentukan seberapa besar penyesuaian yang dilakukan pada bobot (weight) model pada setiap proses training."
      ],
      "metadata": {
        "id": "M8hqZyejwNdf"
      }
    },
    {
      "cell_type": "markdown",
      "source": [
        "**Learning Rate** mengontrol seberapa cepat atau lambat model untuk belajar.\n",
        "Jika nilai learning rate tinggi, dapat menyebabkan model cepat belajar, tapi **berisiko melewatkan kesalahan.**\n",
        "Jika learning rate-nya rendah, maka model akan belajar lebih hati-hati, tetapi **proses pembelajarannya menjadi lebih lambat**."
      ],
      "metadata": {
        "id": "_lqdH_mXwgsr"
      }
    },
    {
      "cell_type": "markdown",
      "source": [],
      "metadata": {
        "id": "h4XHiuUYxP6A"
      }
    },
    {
      "cell_type": "code",
      "source": [
        "# Arsitektur Modelnya\n",
        "\n",
        "import tensorflow as tf\n",
        "import numpy as np\n",
        "\n",
        "model2_sarah = tf.keras.Sequential([\n",
        "    tf.keras.layers.Dense(512, activation = 'relu'),\n",
        "    tf.keras.layers.Dropout(0.5),\n",
        "    tf.keras.layers.Dense(256, activation = 'relu'),\n",
        "    tf.keras.layers.Dropout(0.5),\n",
        "    tf.keras.layers.Dense(128, activation = 'relu'),\n",
        "    tf.keras.layers.Dense(64, activation = 'relu'),\n",
        "    tf.keras.layers.Dense(32, activation = 'relu'),\n",
        "    tf.keras.layers.Dense(10,activation = 'sigmoid')\n",
        "])"
      ],
      "metadata": {
        "id": "rytsbnQowJKY"
      },
      "execution_count": 22,
      "outputs": []
    },
    {
      "cell_type": "code",
      "source": [
        "learning_rate1 = 0.001"
      ],
      "metadata": {
        "id": "lXkDFW_txeEQ"
      },
      "execution_count": 23,
      "outputs": []
    },
    {
      "cell_type": "code",
      "source": [
        "model2_sarah.compile(optimizer =tf.keras.optimizers.RMSprop(learning_rate = learning_rate1), loss='sparse_categorical_crossentropy', metrics=['accuracy'])"
      ],
      "metadata": {
        "id": "94mby_Swxbt7"
      },
      "execution_count": 24,
      "outputs": []
    },
    {
      "cell_type": "code",
      "source": [
        "model2_sarah.fit(train_images,train_labels, epochs=5, batch_size=256)"
      ],
      "metadata": {
        "colab": {
          "base_uri": "https://localhost:8080/"
        },
        "id": "XnXXZaLQx31G",
        "outputId": "6d861177-0e73-45bf-ec30-3f227242387f"
      },
      "execution_count": 25,
      "outputs": [
        {
          "output_type": "stream",
          "name": "stdout",
          "text": [
            "Epoch 1/5\n",
            "235/235 [==============================] - 8s 29ms/step - loss: 0.8064 - accuracy: 0.7016\n",
            "Epoch 2/5\n",
            "235/235 [==============================] - 5s 23ms/step - loss: 0.5119 - accuracy: 0.8140\n",
            "Epoch 3/5\n",
            "235/235 [==============================] - 6s 26ms/step - loss: 0.4623 - accuracy: 0.8334\n",
            "Epoch 4/5\n",
            "235/235 [==============================] - 6s 25ms/step - loss: 0.4282 - accuracy: 0.8457\n",
            "Epoch 5/5\n",
            "235/235 [==============================] - 5s 23ms/step - loss: 0.4094 - accuracy: 0.8505\n"
          ]
        },
        {
          "output_type": "execute_result",
          "data": {
            "text/plain": [
              "<keras.src.callbacks.History at 0x7d88faa7feb0>"
            ]
          },
          "metadata": {},
          "execution_count": 25
        }
      ]
    }
  ]
}